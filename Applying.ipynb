{
 "cells": [
  {
   "cell_type": "code",
   "execution_count": 1,
   "id": "3f2b28d3",
   "metadata": {},
   "outputs": [
    {
     "name": "stdout",
     "output_type": "stream",
     "text": [
      "1/1 [==============================] - 0s 469ms/step\n"
     ]
    },
    {
     "data": {
      "text/plain": [
       "{'Date': ['2024-07-18', '2024-07-17', '2024-07-17', '2024-07-17'],\n",
       " 'Time': ['07:41', '19:10', '15:00', '14:05'],\n",
       " 'Title': ['Акции «Сургутнефтегаза» упали на 22%, проводится дискретный аукцион',\n",
       "  'Иран станет сильногазированным // «Газпром» может продать ему больше, чем Китаю',\n",
       "  'Ozon пополняет кредитный портфель // Каковы перспективы банка маркетплейса в сегменте СМБ',\n",
       "  'Meduza-Auswahl 11. – 17. Juli: Die vielen Toten von Burjatien'],\n",
       " 'Sentiment': [-0.40984541177749634,\n",
       "  -0.026522645726799965,\n",
       "  0.06360332667827606,\n",
       "  0.0682549700140953]}"
      ]
     },
     "execution_count": 1,
     "metadata": {},
     "output_type": "execute_result"
    }
   ],
   "source": [
    "from News_Sentiment import GetSentiment\n",
    "\n",
    "sentiment = GetSentiment(api_key, phrase = 'MOEX', from_date = '2024-07-17', to_date = '2024-07-19')\n",
    "sentiment"
   ]
  }
 ],
 "metadata": {
  "kernelspec": {
   "display_name": "Python 3 (ipykernel)",
   "language": "python",
   "name": "python3"
  },
  "language_info": {
   "codemirror_mode": {
    "name": "ipython",
    "version": 3
   },
   "file_extension": ".py",
   "mimetype": "text/x-python",
   "name": "python",
   "nbconvert_exporter": "python",
   "pygments_lexer": "ipython3",
   "version": "3.9.13"
  }
 },
 "nbformat": 4,
 "nbformat_minor": 5
}
